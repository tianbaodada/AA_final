{
 "cells": [
  {
   "cell_type": "code",
   "execution_count": 206,
   "metadata": {},
   "outputs": [],
   "source": [
    "import pandas as pd\n",
    "import numpy as np\n",
    "\n",
    "v0 = 70\n",
    "n1 = 15\n",
    "n2 = 15\n",
    "\n",
    "data = pd.read_csv(\"RPD2.csv\", encoding = 'utf-8', index_col='job')\n",
    "data['delta'] = data['beta'] - data['alpha']\n",
    "data = np.array(data)\n",
    "m1 = np.array([x for k, x in enumerate(data) if k % 2 == 0])\n",
    "m2 = np.array([x for k, x in enumerate(data) if k % 2 == 1])"
   ]
  },
  {
   "cell_type": "code",
   "execution_count": 207,
   "metadata": {},
   "outputs": [
    {
     "data": {
      "text/plain": [
       "array([[ 10,  62,  17,  19,  52],\n",
       "       [ 53,  11,  14,  28, -42],\n",
       "       [ 96,  98,  17,  32,   2],\n",
       "       [ 83,  57,  13,  44, -26],\n",
       "       [  1,  66,  19,  48,  65],\n",
       "       [ 87,  73,  18,  51, -14],\n",
       "       [ 63,  29,  15,  64, -34],\n",
       "       [ 56,   1,  13,  68, -55],\n",
       "       [  7,  16,  11,  79,   9],\n",
       "       [ 30,  22,  14,  88,  -8],\n",
       "       [ 57,   6,  16,  94, -51],\n",
       "       [ 83,  71,  18, 101, -12],\n",
       "       [ 85,  68,   4, 110, -17],\n",
       "       [  3,  60,   9, 118,  57],\n",
       "       [ 87,  94,  17, 130,   7]])"
      ]
     },
     "execution_count": 207,
     "metadata": {},
     "output_type": "execute_result"
    }
   ],
   "source": [
    "m1 = m1[:n1]\n",
    "m1"
   ]
  },
  {
   "cell_type": "code",
   "execution_count": 208,
   "metadata": {},
   "outputs": [
    {
     "data": {
      "text/plain": [
       "array([[ 84,  52,  13,  22, -32],\n",
       "       [ 29,  38,  15,  32,   9],\n",
       "       [  8,  29,   8,  39,  21],\n",
       "       [  4,  53,   5,  48,  49],\n",
       "       [ 59,   3,   8,  49, -56],\n",
       "       [ 72,  70,  11,  60,  -2],\n",
       "       [ 22,  62,   1,  68,  40],\n",
       "       [ 65,  35,   1,  77, -30],\n",
       "       [ 54,  48,  12,  84,  -6],\n",
       "       [ 53,  92,   1,  90,  39],\n",
       "       [ 32,  20,  20,  94, -12],\n",
       "       [ 35,  55,  19, 101,  20],\n",
       "       [ 30,   1,   6, 115, -29],\n",
       "       [ 76,  62,  20, 126, -14],\n",
       "       [  7,  45,  13, 139,  38]])"
      ]
     },
     "execution_count": 208,
     "metadata": {},
     "output_type": "execute_result"
    }
   ],
   "source": [
    "m2 = m2[:n2]\n",
    "m2"
   ]
  },
  {
   "cell_type": "code",
   "execution_count": 209,
   "metadata": {},
   "outputs": [],
   "source": [
    "# def A(i, j):\n",
    "#     return v0 + sum(m1[:i, 4]) + sum(m2[:j, 4]) - m1[i, 0] - m2[j, 0] >= 0\n",
    "A = lambda i, j: v0 + sum(m1[:i, 4]) + sum(m2[:j, 4]) - m1[i, 0] - m2[j, 0] >= 0"
   ]
  },
  {
   "cell_type": "code",
   "execution_count": 210,
   "metadata": {},
   "outputs": [],
   "source": [
    "def construct_H(i, j):\n",
    "    H = set()\n",
    "    if not (i < n1 and j < n2):\n",
    "        return H\n",
    "\n",
    "    i_prime, j_prime = i, j\n",
    "    s1 = m1[i_prime, 2]\n",
    "    s2 = m2[j_prime, 2]\n",
    "\n",
    "    while i_prime < n1 and j_prime < n2 and s1 != s2 and A(i_prime, j_prime):\n",
    "        H.add((i, j, i_prime, j_prime))\n",
    "\n",
    "        if s1 < s2:\n",
    "            i_prime += 1\n",
    "            if i_prime < n1:\n",
    "                s1 += m1[i_prime, 2]\n",
    "        else:\n",
    "            j_prime += 1\n",
    "            if j_prime < n2:\n",
    "                s2 += m2[j_prime, 2]\n",
    "    return H\n",
    "\n",
    "# construct_H(2,2)"
   ]
  },
  {
   "cell_type": "code",
   "execution_count": 211,
   "metadata": {},
   "outputs": [],
   "source": [
    "T = lambda t, k, h: max(0, t - k[h, 3])\n",
    "\n",
    "def g(i, j, l):\n",
    "    H = construct_H(i, j)\n",
    "    # if H: print(f'{i}, {j}, H: {H}')\n",
    "    \n",
    "    def L(i, j, i_prime, j_prime):\n",
    "        s1 = sum(T(l + sum(m1[i:h+1, 2]), m1, h) for h in range(i, i_prime+1))\n",
    "        s2 = sum(T(l + sum(m2[j:h+1, 2]), m2, h) for h in range(j, j_prime+1))\n",
    "\n",
    "        sum_m1 = sum(m1[i:i_prime+1, 2])\n",
    "        sum_m2 = sum(m2[j:j_prime+1, 2])\n",
    "\n",
    "        rec = g(i_prime + 1, j_prime + 1, l + max(sum_m1, sum_m2))\n",
    "        return rec + s1 + s2\n",
    "\n",
    "    def z1():\n",
    "        if v0 + sum(m1[:i, 4]) + sum(m2[:j, 4]) - m1[i, 0] >= 0:\n",
    "            td = T(l + m1[i, 2], m1, i)\n",
    "            # print(f'{i}, {j}, do m1 {i}, td = {td}')\n",
    "            return g(i + 1, j, l + m1[i, 2]) + td\n",
    "        # print(f'{i}, {j}, cannot do m1 {i}')\n",
    "        return float('inf')\n",
    "\n",
    "    def z2():\n",
    "        if v0 + sum(m1[:i, 4]) + sum(m2[:j, 4]) - m2[j, 0] >= 0:\n",
    "            td = T(l + m2[j, 2], m2, j)\n",
    "            # print(f'{i}, {j}, do m2 {j}, td = {td}')\n",
    "            return g(i, j + 1, l + m2[j, 2]) + td\n",
    "        # print(f'{i}, {j}, cannot do m2 {j}')\n",
    "        return float('inf')\n",
    "        \n",
    "    def z3():\n",
    "        if len(H) != 0:\n",
    "            # print(f'{i}, {j}, do block start')\n",
    "            mi = float('inf')\n",
    "            arg_mi = ()\n",
    "            for x,y,i_prime,j_prime in H:\n",
    "                td = L(x,y,i_prime,j_prime)\n",
    "                if td < mi:\n",
    "                    mi = td\n",
    "                    arg_mi = (x,y,i_prime,j_prime)\n",
    "            # print(f'{i}, {j}, do block {arg_mi}, td = {mi}')\n",
    "            return mi\n",
    "        # print(f'{i}, {j}, cannot do block')\n",
    "        return float('inf')\n",
    "\n",
    "    # z1 = lambda: g(i + 1, j, l + m1[i, 2]) + T(l + m1[i, 2], m1, i) \\\n",
    "    #     if v0 + sum(m1[:i, 4]) + sum(m2[:j, 4]) - m1[i, 0] >= 0 else float('inf')\n",
    "    # z2 = lambda: g(i, j + 1, l + m2[j, 2]) + T(l + m2[j, 2], m2, j) \\\n",
    "    #     if v0 + sum(m1[:i, 4]) + sum(m2[:j, 4]) - m2[j, 0] >= 0 else float('inf')\n",
    "    # z3 = lambda: min(L(i,j,i_prime,j_prime) for i,j,i_prime,j_prime in H) \\\n",
    "    #     if H else float('inf')\n",
    "\n",
    "    if i == n1 and j == n2:\n",
    "        # print(f'{i}, {j}, done')\n",
    "        return 0\n",
    "    if i < n1 and j == n2:\n",
    "        return z1()\n",
    "    if i == n1 and j < n2:\n",
    "        return z2()\n",
    "\n",
    "    x1 = z1()\n",
    "    x2 = z2()\n",
    "    x3 = z3()\n",
    "    \n",
    "    # print(f'{i}, {j}, {x1}, {x2}, {x3}')\n",
    "\n",
    "    return min(x1, x2, x3)\n"
   ]
  },
  {
   "cell_type": "code",
   "execution_count": 212,
   "metadata": {},
   "outputs": [
    {
     "data": {
      "text/plain": [
       "inf"
      ]
     },
     "execution_count": 212,
     "metadata": {},
     "output_type": "execute_result"
    }
   ],
   "source": [
    "g(0,0,0)"
   ]
  },
  {
   "cell_type": "code",
   "execution_count": null,
   "metadata": {},
   "outputs": [],
   "source": []
  }
 ],
 "metadata": {
  "interpreter": {
   "hash": "a64f9acb53a9bf4c35a421061d71f644308fbe7f98b1a20c7856f41a72c76ce7"
  },
  "kernelspec": {
   "display_name": "Python 3.7.11 64-bit ('DP_HW2': conda)",
   "language": "python",
   "name": "python3"
  },
  "language_info": {
   "codemirror_mode": {
    "name": "ipython",
    "version": 3
   },
   "file_extension": ".py",
   "mimetype": "text/x-python",
   "name": "python",
   "nbconvert_exporter": "python",
   "pygments_lexer": "ipython3",
   "version": "3.7.11"
  },
  "orig_nbformat": 4
 },
 "nbformat": 4,
 "nbformat_minor": 2
}
