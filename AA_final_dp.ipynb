{
 "cells": [
  {
   "cell_type": "code",
   "execution_count": 148,
   "metadata": {},
   "outputs": [],
   "source": [
    "import pandas as pd\n",
    "import numpy as np\n",
    "\n",
    "# 2 2 37\n",
    "# 3 3 inf\n",
    "# 4 4 148\n",
    "# 5 5 254\n",
    "# 6 6 397\n",
    "# 50 50 11734\n",
    "\n",
    "v0 = 70\n",
    "n1 = 50\n",
    "n2 = 50\n",
    "\n",
    "data = pd.read_csv(\"RPD2.csv\", encoding = 'utf-8', index_col='job')\n",
    "data['delta'] = data['beta'] - data['alpha']\n",
    "data = np.array(data)\n",
    "\n",
    "m1 = np.array([x for k, x in enumerate(data) if k%2 == 0])\n",
    "m2 = np.array([x for k, x in enumerate(data) if k%2 == 1])\n",
    "m1 = m1[:n1]\n",
    "m2 = m2[:n2]\n",
    "\n",
    "max_l = sum(m1[:, 2]) + sum(m2[:, 2])\n",
    "\n",
    "dp = np.zeros((max_l+1, n1+1, n2+1)) + float('inf')\n",
    "dp[:, 0, 0] = 0\n",
    "\n",
    "path = np.empty((max_l+1, n1+1, n2+1), dtype=tuple)\n",
    "path[0,0,0] = ()"
   ]
  },
  {
   "cell_type": "code",
   "execution_count": 149,
   "metadata": {},
   "outputs": [],
   "source": [
    "A = lambda i, j: v0 + sum(m1[:i, 4]) + sum(m2[:j, 4]) - m1[i, 0] - m2[j, 0] >= 0\n",
    "\n",
    "T = lambda t, k, h: max(0, t - k[h, 3])\n",
    "\n",
    "def construct_H(i, j):\n",
    "    H = set()\n",
    "    if not (i < n1 and j < n2):\n",
    "        return H\n",
    "\n",
    "    i_prime, j_prime = i, j\n",
    "    s1 = m1[i_prime, 2]\n",
    "    s2 = m2[j_prime, 2]\n",
    "\n",
    "    while i_prime < n1 and j_prime < n2 and s1 != s2 and A(i_prime, j_prime):\n",
    "        H.add((i, j, i_prime, j_prime))\n",
    "\n",
    "        if s1 < s2:\n",
    "            i_prime += 1\n",
    "            if i_prime < n1:\n",
    "                s1 += m1[i_prime, 2]\n",
    "        else:\n",
    "            j_prime += 1\n",
    "            if j_prime < n2:\n",
    "                s2 += m2[j_prime, 2]\n",
    "    return H"
   ]
  },
  {
   "cell_type": "code",
   "execution_count": 150,
   "metadata": {},
   "outputs": [],
   "source": [
    "H = np.zeros((n1, n2), dtype=object)\n",
    "for i in range(n1):\n",
    "    for j in range(n2):\n",
    "        H[i, j] = construct_H(i, j)\n",
    "\n",
    "for i in range(n1+1):\n",
    "    for j in range(n2+1):\n",
    "\n",
    "        p1 = sum(m1[:i, 2])\n",
    "        p2 = sum(m2[:j, 2])\n",
    "\n",
    "        l1 = max(p1, p2)\n",
    "        l2 = p1 + p2\n",
    "\n",
    "        for l in range(l1, l2+1):\n",
    "            if i < n1 and v0 + sum(m1[:i, 4]) + sum(m2[:j, 4]) - m1[i, 0] >= 0:\n",
    "                l_prime = l + m1[i, 2]\n",
    "                tardiness = dp[l, i, j] + T(l_prime, m1, i)\n",
    "\n",
    "                if tardiness < dp[l_prime, i+1, j]:\n",
    "                    dp[l_prime, i+1, j] = tardiness\n",
    "                    path[l_prime, i+1, j] = (l, i, j, f'do m1 job {i}')\n",
    "\n",
    "            if j < n2 and v0 + sum(m1[:i, 4]) + sum(m2[:j, 4]) - m2[j, 0] >= 0:\n",
    "                l_prime = l + m2[j, 2]\n",
    "                tardiness = dp[l, i, j] + T(l_prime, m2, j)\n",
    "\n",
    "                if tardiness < dp[l_prime, i, j+1]:\n",
    "                    dp[l_prime, i, j+1] = tardiness\n",
    "                    path[l_prime, i, j+1] = (l, i, j, f'do m2 job {j}')\n",
    "\n",
    "            if i < n1 and j < n2 and H[i, j]:\n",
    "                for (x, y, x_prime, y_prime) in H[i, j]:\n",
    "                    sum_m1 = sum(m1[x:x_prime+1, 2])\n",
    "                    sum_m2 = sum(m2[y:y_prime+1, 2])\n",
    "\n",
    "                    l_prime = l + max(sum_m1, sum_m2)\n",
    "\n",
    "                    s1 = sum(T(l + sum(m1[x:h+1, 2]), m1, h) for h in range(x, x_prime+1))\n",
    "                    s2 = sum(T(l + sum(m2[y:h+1, 2]), m2, h) for h in range(y, y_prime+1))\n",
    "                    \n",
    "                    tardiness = dp[l, x, y] + s1 + s2\n",
    "\n",
    "                    if tardiness < dp[l_prime, x_prime+1, y_prime+1]:\n",
    "                        dp[l_prime, x_prime+1, y_prime+1] = tardiness\n",
    "                        path[l_prime, x_prime+1, y_prime+1] = (l, x, y, f'do m1 jobs {x} to {x_prime}, m2 jobs {y} to {y_prime}')\n"
   ]
  },
  {
   "cell_type": "code",
   "execution_count": 151,
   "metadata": {},
   "outputs": [
    {
     "name": "stdout",
     "output_type": "stream",
     "text": [
      "Total weighted tardiness: 11734.0\n",
      "完成所有Job且有最少tardiness的完成時間: 666\n"
     ]
    }
   ],
   "source": [
    "min_tardy = min(dp[:, -1, -1])\n",
    "min_tardy_l = np.where(dp[:, -1, -1] == min_tardy)[0][0]\n",
    "# cmax = np.where(dp[:, -1, -1] != float(\"inf\"))[0][0]\n",
    "\n",
    "print(f'Total weighted tardiness: {min_tardy}')\n",
    "print(f'完成所有Job且有最少tardiness的完成時間: {min_tardy_l}')\n",
    "# print(f'最快完成所有Job的時間: {cmax}')\n",
    "# print(f'最快完成所有Job時的tardiness: {dp[cmax, -1, -1]}')"
   ]
  },
  {
   "cell_type": "code",
   "execution_count": 152,
   "metadata": {},
   "outputs": [
    {
     "data": {
      "text/plain": [
       "[(0, 0, 0, 'do m1 job 0'),\n",
       " (17, 1, 0, 'do m2 job 0'),\n",
       " (30, 1, 1, 'do m1 jobs 1 to 1, m2 jobs 1 to 1'),\n",
       " (45, 2, 2, 'do m2 job 2'),\n",
       " (53, 2, 3, 'do m2 job 3'),\n",
       " (58, 2, 4, 'do m1 job 2'),\n",
       " (75, 3, 4, 'do m2 job 4'),\n",
       " (83, 3, 5, 'do m2 job 5'),\n",
       " (94, 3, 6, 'do m2 job 6'),\n",
       " (95, 3, 7, 'do m2 job 7'),\n",
       " (96, 3, 8, 'do m2 job 8'),\n",
       " (108, 3, 9, 'do m2 job 9'),\n",
       " (109, 3, 10, 'do m1 job 3'),\n",
       " (122, 4, 10, 'do m1 jobs 4 to 5, m2 jobs 10 to 11'),\n",
       " (161, 6, 12, 'do m2 job 12'),\n",
       " (167, 6, 13, 'do m2 job 13'),\n",
       " (187, 6, 14, 'do m1 jobs 6 to 6, m2 jobs 14 to 15'),\n",
       " (202, 7, 16, 'do m1 jobs 7 to 8, m2 jobs 16 to 18'),\n",
       " (232, 9, 19, 'do m2 job 19'),\n",
       " (234, 9, 20, 'do m1 jobs 9 to 9, m2 jobs 20 to 20'),\n",
       " (248, 10, 21, 'do m1 jobs 10 to 12, m2 jobs 21 to 23'),\n",
       " (286, 13, 24, 'do m1 jobs 13 to 13, m2 jobs 24 to 24'),\n",
       " (303, 14, 25, 'do m2 job 25'),\n",
       " (308, 14, 26, 'do m1 jobs 14 to 16, m2 jobs 26 to 27'),\n",
       " (336, 17, 28, 'do m1 jobs 17 to 20, m2 jobs 28 to 32'),\n",
       " (390, 21, 33, 'do m1 jobs 21 to 36, m2 jobs 33 to 49'),\n",
       " (559, 37, 50, 'do m1 job 37'),\n",
       " (563, 38, 50, 'do m1 job 38'),\n",
       " (570, 39, 50, 'do m1 job 39'),\n",
       " (574, 40, 50, 'do m1 job 40'),\n",
       " (580, 41, 50, 'do m1 job 41'),\n",
       " (600, 42, 50, 'do m1 job 42'),\n",
       " (604, 43, 50, 'do m1 job 43'),\n",
       " (616, 44, 50, 'do m1 job 44'),\n",
       " (620, 45, 50, 'do m1 job 45'),\n",
       " (632, 46, 50, 'do m1 job 46'),\n",
       " (638, 47, 50, 'do m1 job 47'),\n",
       " (654, 48, 50, 'do m1 job 48'),\n",
       " (659, 49, 50, 'do m1 job 49'),\n",
       " (666, 50, 50, 'done')]"
      ]
     },
     "execution_count": 152,
     "metadata": {},
     "output_type": "execute_result"
    }
   ],
   "source": [
    "previous = (min_tardy_l, n1, n2, 'done')\n",
    "job_seq = []\n",
    "while previous:\n",
    "    job_seq.append(previous)\n",
    "    l, i, j, _ = previous\n",
    "    previous = path[l, i, j]\n",
    "\n",
    "list(reversed(job_seq))"
   ]
  }
 ],
 "metadata": {
  "interpreter": {
   "hash": "a64f9acb53a9bf4c35a421061d71f644308fbe7f98b1a20c7856f41a72c76ce7"
  },
  "kernelspec": {
   "display_name": "Python 3.7.11 64-bit ('DP_HW2': conda)",
   "language": "python",
   "name": "python3"
  },
  "language_info": {
   "codemirror_mode": {
    "name": "ipython",
    "version": 3
   },
   "file_extension": ".py",
   "mimetype": "text/x-python",
   "name": "python",
   "nbconvert_exporter": "python",
   "pygments_lexer": "ipython3",
   "version": "3.7.11"
  },
  "orig_nbformat": 4
 },
 "nbformat": 4,
 "nbformat_minor": 2
}
